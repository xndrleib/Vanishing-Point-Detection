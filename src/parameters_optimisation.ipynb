{
 "cells": [
  {
   "cell_type": "code",
   "execution_count": 1,
   "metadata": {
    "collapsed": true,
    "pycharm": {
     "name": "#%%\n"
    }
   },
   "outputs": [],
   "source": [
    "import numpy as np\n",
    "import cv2\n",
    "import os\n",
    "\n",
    "import itertools\n",
    "\n",
    "from evaluation_scripts.metrics import calculate_angle, read_from_json\n",
    "from src.vanishingpoint import run\n",
    "\n",
    "from test_generation.test_generation_custom import generate_ds"
   ]
  },
  {
   "cell_type": "code",
   "execution_count": 2,
   "outputs": [],
   "source": [
    "path2res = '/Users/kgb/Google Drive/Code/VanishingPoint/res/ans'\n",
    "path2res_folder = '/Users/kgb/Google Drive/Code/VanishingPoint/res/'\n",
    "path2train_gt = '/Users/kgb/Google Drive/Code/VanishingPoint/train/markup.json'\n",
    "path2train_data = '/Users/kgb/Google Drive/Code/VanishingPoint/train/'\n",
    "path2test_data = '/Users/kgb/Google Drive/Code/VanishingPoint/test/'\n",
    "path2test_gt = '/Users/kgb/Google Drive/Code/VanishingPoint/test/markup.json'"
   ],
   "metadata": {
    "collapsed": false,
    "pycharm": {
     "name": "#%%\n"
    }
   }
  },
  {
   "cell_type": "code",
   "execution_count": 3,
   "outputs": [],
   "source": [
    "def get_shapes(path):\n",
    "    names = os.listdir(path)\n",
    "    return {name: cv2.imread(os.path.join(path, name)).shape[0:2] for name in names if name != 'markup.json'}\n",
    "\n",
    "def generate_test_data(num = 50, seed = 9876):\n",
    "    return generate_ds(path2test_data, path2train_data, num, seed)"
   ],
   "metadata": {
    "collapsed": false,
    "pycharm": {
     "name": "#%%\n"
    }
   }
  },
  {
   "cell_type": "code",
   "execution_count": 4,
   "outputs": [],
   "source": [
    "selected_fnames = generate_test_data(5)\n",
    "shapes_dict = get_shapes(path2test_data)\n",
    "y_true_dict = read_from_json(path2test_gt)\n",
    "\n",
    "def evaluation(sigma, threshold_dividend, min_dividend, max_dividend):\n",
    "    t_res_dict = {}\n",
    "\n",
    "    for f in selected_fnames:\n",
    "        try:\n",
    "            t_res_dict[f] = run(path2test_data + f'{f}',\n",
    "                              sigma,\n",
    "                              threshold_dividend,\n",
    "                              min_dividend,\n",
    "                              max_dividend)\n",
    "        except Exception as e:\n",
    "            print(f)\n",
    "            print(e)\n",
    "\n",
    "    return t_res_dict"
   ],
   "metadata": {
    "collapsed": false,
    "pycharm": {
     "name": "#%%\n"
    }
   }
  },
  {
   "cell_type": "code",
   "execution_count": 5,
   "outputs": [],
   "source": [
    "def calc_metrics(parameters):\n",
    "    sigma = parameters[0]\n",
    "    threshold_dividend = parameters[1]\n",
    "    min_dividend = parameters[2]\n",
    "    max_dividend = parameters[3]\n",
    "\n",
    "    y_predict_dict = evaluation(sigma, threshold_dividend, min_dividend, max_dividend)\n",
    "\n",
    "    angles = []\n",
    "    for name in y_true_dict:\n",
    "        angle = calculate_angle(y_predict_dict[name], y_true_dict[name], shapes_dict[name])\n",
    "        angles.append(angle)\n",
    "\n",
    "    angles = np.array(angles)\n",
    "\n",
    "    return np.mean(angles), np.median(angles)"
   ],
   "metadata": {
    "collapsed": false,
    "pycharm": {
     "name": "#%%\n"
    }
   }
  },
  {
   "cell_type": "code",
   "execution_count": 6,
   "outputs": [
    {
     "data": {
      "text/plain": "(3.537878101918582, 3.1170727239945153)"
     },
     "execution_count": 6,
     "metadata": {},
     "output_type": "execute_result"
    }
   ],
   "source": [
    "x0 = [0.2, 23, 150.0, 150.0]\n",
    "calc_metrics(x0)"
   ],
   "metadata": {
    "collapsed": false,
    "pycharm": {
     "name": "#%%\n"
    }
   }
  },
  {
   "cell_type": "code",
   "execution_count": 14,
   "outputs": [
    {
     "data": {
      "text/plain": "252"
     },
     "execution_count": 14,
     "metadata": {},
     "output_type": "execute_result"
    }
   ],
   "source": [
    "sigmas = [0.2]\n",
    "thresholds = [20, 24, 25, 30, 40, 50, 60, 75, 100, 120, 150, 200, 300, 600]\n",
    "min_dividends = [1, 2, 3, 4, 5, 6, 10, 12, 15, 20, 25, 30, 50, 60, 75, 100, 150, 300]\n",
    "max_dividends = [1, 2, 3, 4, 5, 6, 10, 12, 15, 20, 25, 30, 50, 60, 75, 100, 150, 300]\n",
    "\n",
    "products = itertools.product(sigmas, thresholds, min_dividends)\n",
    "\n",
    "len(list(products))"
   ],
   "metadata": {
    "collapsed": false,
    "pycharm": {
     "name": "#%%\n"
    }
   }
  },
  {
   "cell_type": "code",
   "execution_count": 8,
   "outputs": [],
   "source": [
    "res_dict = {}\n",
    "\n",
    "for sigma, threshold, min_dividend in products:\n",
    "    pos_max_dividends = [value for value in max_dividends if value > min_dividend]\n",
    "    for max_dividend in pos_max_dividends:\n",
    "        t_res = calc_metrics([sigma, threshold, min_dividend, max_dividend])\n",
    "        res_dict[(sigma, threshold, min_dividend, max_dividend)] = t_res\n",
    "        print(t_res)"
   ],
   "metadata": {
    "collapsed": false,
    "pycharm": {
     "name": "#%%\n"
    }
   }
  },
  {
   "cell_type": "code",
   "execution_count": 9,
   "outputs": [],
   "source": [
    "res_dict_sorted = dict(sorted(res_dict.items(), key=lambda item: item[1][0] + item[1][1]))\n",
    "res_dict_sorted"
   ],
   "metadata": {
    "collapsed": false,
    "pycharm": {
     "name": "#%%\n"
    }
   }
  }
 ],
 "metadata": {
  "kernelspec": {
   "display_name": "Python 3",
   "language": "python",
   "name": "python3"
  },
  "language_info": {
   "codemirror_mode": {
    "name": "ipython",
    "version": 2
   },
   "file_extension": ".py",
   "mimetype": "text/x-python",
   "name": "python",
   "nbconvert_exporter": "python",
   "pygments_lexer": "ipython2",
   "version": "2.7.6"
  }
 },
 "nbformat": 4,
 "nbformat_minor": 0
}